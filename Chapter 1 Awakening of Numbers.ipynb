{
 "cells": [
  {
   "cell_type": "markdown",
   "id": "aae9b131",
   "metadata": {},
   "source": [
    "# ⚔️ CHAPTER 1: The Awakening of Numbers"
   ]
  },
  {
   "cell_type": "markdown",
   "id": "571af10e",
   "metadata": {},
   "source": [
    "<font color=\"orange\"><b>“The past is not what defines you Kratos.”</b></font> Mimir’s voice echoed.\n",
    "\n",
    "<font color=\"orange\"><b>“It is how you calculate what remains.”</b></font>\n",
    "\n",
    "The snow cracked beneath Kratos’ boots.\n",
    "He stood before a massive stone tablet carved with ancient runes, Numbers.\n",
    "Each number pulsed faintly, like the heartbeat of a long-dead god.\n",
    "\n",
    "Atreus touched one rune curiously.\n",
    "\n",
    "Atreus says, <font color=\"orange\"><b>“Father… these symbols, they look alive.”</b></font>\n",
    "\n",
    "Kratos stared at the patterns, eyes narrowing.\n",
    "\n",
    "<font color=\"orange\"><b>“They are alive. Everything here breathes meaning. We will learn their rhythm… before they consume us.”</b></font>\n",
    "\n",
    "Mimir chuckled softly from Kratos’ belt.\n",
    "\n",
    "<font color=\"orange\"><b>“Welcome to the Realm of Statistics, Brother! A place where chaos has a pattern… if you’ve got the brains to see it.”</b></font>\n",
    "\n",
    "Kratos grunted. <font color=\"orange\"><b>“Then we find that pattern.”</b></font>"
   ]
  },
  {
   "cell_type": "markdown",
   "id": "6212048b",
   "metadata": {},
   "source": [
    "## 🎯 The Scroll of Clarity --> Descriptive Statistics"
   ]
  },
  {
   "cell_type": "markdown",
   "id": "84d7aabf",
   "metadata": {},
   "source": [
    "The runes glowed, forming three symbols in the air.\n",
    "#### <font color=\"orange\"><b>Mean. Median. Mode.</b></font>\n",
    "\n",
    "<font color=\"orange\"><b>“These are the first three runes of understanding the Measures of Central Tendency. They tell you where the heart of the data lies.”</b> said Mimir.</b></font>\n",
    "\n",
    "Kratos lifted the Leviathan Axe, its blade reflecting the glowing runes.\n",
    "As he swung, numbers danced in the air, forming a dataset."
   ]
  },
  {
   "cell_type": "code",
   "execution_count": 35,
   "id": "2242132c",
   "metadata": {},
   "outputs": [],
   "source": [
    "import numpy as np\n",
    "import matplotlib.pyplot as plt\n",
    "import seaborn as sns\n",
    "from scipy import stats"
   ]
  },
  {
   "cell_type": "markdown",
   "id": "3a797ff2",
   "metadata": {},
   "source": [
    "### The Code of the Leviathan Axe"
   ]
  },
  {
   "cell_type": "code",
   "execution_count": 39,
   "id": "ac95fe0c",
   "metadata": {},
   "outputs": [
    {
     "name": "stdout",
     "output_type": "stream",
     "text": [
      "Mean of Warrior Strengths: 61.8\n",
      "Median of Warrior Strengths: 61.0\n",
      "Mode of Warrior Strengths: ModeResult(mode=np.int64(45), count=np.int64(1))\n"
     ]
    }
   ],
   "source": [
    "warrior_strengths = np.array([55, 67, 45, 70, 60, 72, 58, 62, 49, 80])\n",
    "\n",
    "print(\"Mean of Warrior Strengths:\", np.mean(warrior_strengths))\n",
    "print(\"Median of Warrior Strengths:\", np.median(warrior_strengths))\n",
    "print(\"Mode of Warrior Strengths:\", stats.mode(warrior_strengths))"
   ]
  },
  {
   "cell_type": "markdown",
   "id": "d6c269f4",
   "metadata": {},
   "source": [
    "As Kratos spoke the command, the numbers aligned.\n",
    "He watched as the weakest and strongest balanced each other, forming the Mean.\n",
    "The Median stood proudly in the middle, like a warrior refusing to yield.\n",
    "The Mode whispered the strength most common among the ranks.\n",
    "\n",
    "Atreus asked, <font color=\"orange\"><b>“Father, why do we need to know this?”</b></font>\n",
    "Kratos replied:\n",
    "\n",
    "<font color=\"orange\"><b>“Because a warrior who does not know the strength of his army… has already lost the war.”</b></font>"
   ]
  },
  {
   "cell_type": "markdown",
   "id": "890098f5",
   "metadata": {},
   "source": [
    "## ⚡ The Rune of Chaos --> Variability"
   ]
  },
  {
   "cell_type": "markdown",
   "id": "3fbe82f8",
   "metadata": {},
   "source": [
    "Another set of runes rose, trembling.\n",
    "\n",
    "<font color=\"orange\"><b>“Order is nothing without knowing its chaos,”</b></font> Mimir muttered.\n",
    "<font color=\"orange\"><b>“Variance. Standard Deviation. Range. They reveal how wild your army truly is.”</b></font>\n",
    "\n",
    "Kratos clenched his fist. <font color=\"orange\"><b>“Then show me their chaos.”</b></font>"
   ]
  },
  {
   "cell_type": "markdown",
   "id": "b7a83b95",
   "metadata": {},
   "source": [
    "### The Code of the Blades of Chaos"
   ]
  },
  {
   "cell_type": "code",
   "execution_count": 31,
   "id": "76da8e23",
   "metadata": {},
   "outputs": [
    {
     "name": "stdout",
     "output_type": "stream",
     "text": [
      "Variance of Warrior Strengths: 103.96\n",
      "Standard Deviation of Warrior Strengths: 10.196077677224707\n",
      "Range of Warrior Strengths: 35\n"
     ]
    }
   ],
   "source": [
    "print(\"Variance of Warrior Strengths:\", np.var(warrior_strengths))\n",
    "print(\"Standard Deviation of Warrior Strengths:\", np.std(warrior_strengths))\n",
    "print(\"Range of Warrior Strengths:\", np.ptp(warrior_strengths))"
   ]
  },
  {
   "cell_type": "code",
   "execution_count": 32,
   "id": "ad34e059",
   "metadata": {},
   "outputs": [
    {
     "name": "stdout",
     "output_type": "stream",
     "text": [
      "Variance of Warrior Strengths: 115.5111111111111\n",
      "Standard Deviation of Warrior Strengths: 10.747609553343064\n",
      "Range of Warrior Strengths: 35\n"
     ]
    }
   ],
   "source": [
    "print(\"Variance of Warrior Strengths:\", np.var(warrior_strengths, ddof = 1))\n",
    "print(\"Standard Deviation of Warrior Strengths:\", np.std(warrior_strengths, ddof = 1))\n",
    "print(\"Range of Warrior Strengths:\", np.ptp(warrior_strengths))"
   ]
  },
  {
   "cell_type": "markdown",
   "id": "30b56f20",
   "metadata": {},
   "source": [
    "The air shimmered. Kratos saw visions of warriors spread across the battlefield — some close, some far.\n",
    "Variance showed their spread.\n",
    "Standard Deviation whispered how unpredictable they were.\n",
    "Range shouted the gap between the weakest and strongest.\n",
    "\n",
    "Mimir smirked:\n",
    "\n",
    "<font color=\"orange\"><b>“Aye, Kratos. The higher the variance, the more unpredictable your army. The lower… the tighter your ranks.”</b></font>\n",
    "\n",
    "Kratos nodded slowly. <font color=\"orange\"><b>“Then I shall train them until chaos itself fears me.”</b></font>"
   ]
  },
  {
   "cell_type": "markdown",
   "id": "a2701efd",
   "metadata": {},
   "source": [
    "## 🔥 The Final Rune --> Shape of Battle"
   ]
  },
  {
   "cell_type": "markdown",
   "id": "7681906a",
   "metadata": {},
   "source": [
    "Suddenly, two more runes lit up, \"Skewness and Kurtosis\".\n",
    "Atreus tilted his head. “What do they mean, Mimir?”\n",
    "\n",
    "<font color=\"orange\"><b>“Skewness tells which way your warriors lean too many weaklings, or too many monsters. Kurtosis tells whether your strength is sharp and focused… or spread thin across the land.”</b></font>\n",
    "\n",
    "Kratos raised his axe again."
   ]
  },
  {
   "cell_type": "markdown",
   "id": "78629050",
   "metadata": {},
   "source": [
    "### The Code of the Battle’s Shape"
   ]
  },
  {
   "cell_type": "code",
   "execution_count": 33,
   "id": "27e6a937",
   "metadata": {},
   "outputs": [
    {
     "name": "stdout",
     "output_type": "stream",
     "text": [
      "Skewness of Warrior Strengths: 0.053570608040815745\n",
      "Kurtosis of Warrior Strengths: -0.8287965848290715\n"
     ]
    }
   ],
   "source": [
    "print(\"Skewness of Warrior Strengths:\", stats.skew(warrior_strengths))\n",
    "print(\"Kurtosis of Warrior Strengths:\", stats.kurtosis(warrior_strengths))"
   ]
  },
  {
   "cell_type": "markdown",
   "id": "6b1cd665",
   "metadata": {},
   "source": [
    "The runes shimmered and formed a curve of power across the sky.\n",
    "Kratos could see it, his army’s balance of strength.\n",
    "\n",
    "<font color=\"orange\"><b>“Too many weak… and the realm falls,” he growled. Too many strong… and they devour themselves.”</b></font>"
   ]
  },
  {
   "cell_type": "markdown",
   "id": "c19fea86",
   "metadata": {},
   "source": [
    "## 🌌 The Vision --> Seeing the Battlefield"
   ]
  },
  {
   "cell_type": "code",
   "execution_count": 34,
   "id": "9265a310",
   "metadata": {},
   "outputs": [
    {
     "data": {
      "image/png": "[encoded data removed]",
      "text/plain": [
       "<Figure size 800x400 with 1 Axes>"
      ]
     },
     "metadata": {},
     "output_type": "display_data"
    }
   ],
   "source": [
    "plt.figure(figsize=(8,4))\n",
    "sns.histplot(warrior_strengths, bins=5, color='firebrick', kde=True)\n",
    "plt.title(\"Distribution of Warrior Strengths\")\n",
    "plt.xlabel(\"Strength\")\n",
    "plt.ylabel(\"Number of Warriors\")\n",
    "plt.show()\n"
   ]
  },
  {
   "cell_type": "markdown",
   "id": "d500c216",
   "metadata": {},
   "source": [
    "A red mist filled the air — the data turned into fire and motion.\n",
    "Peaks formed where the strong gathered, valleys where the weak fell.\n",
    "Kratos gazed silently at the curve — and understood.\n",
    "\n",
    "Mimir spoke softly, <font color=\"orange\"><b>“You now see, Brother. This is not just numbers. This is truth made visible.”</b></font>"
   ]
  },
  {
   "cell_type": "markdown",
   "id": "e80afd82",
   "metadata": {},
   "source": [
    "## 🪓 The Lesson of the Chapter\n",
    "\n",
    "<font color=\"orange\"><b>“The first step to conquer chaos is to measure it. Only then can you bend it to your will.”</b></font> said Kratos.\n",
    "\n",
    "He turned to Atreus.\n",
    "\n",
    "<font color=\"orange\"><b>“Boy, the next lesson, Realm will teach us how to predict fate itself. We go… to the Realm of Probability.”</b></font> said Kratos.\n",
    "\n",
    "The Leviathan Axe glowed faintly blue.\n",
    "A portal formed ahead, swirling like an ancient equation.\n",
    "\n",
    "And so, Kratos took his first step into the art of chance, where gods play with destiny… and mortals call it Probability."
   ]
  }
 ],
 "metadata": {
  "kernelspec": {
   "display_name": "Python 3",
   "language": "python",
   "name": "python3"
  },
  "language_info": {
   "codemirror_mode": {
    "name": "ipython",
    "version": 3
   },
   "file_extension": ".py",
   "mimetype": "text/x-python",
   "name": "python",
   "nbconvert_exporter": "python",
   "pygments_lexer": "ipython3",
   "version": "3.13.8"
  }
 },
 "nbformat": 4,
 "nbformat_minor": 5
}
