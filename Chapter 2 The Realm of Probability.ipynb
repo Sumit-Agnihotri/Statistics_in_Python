{
 "cells": [
  {
   "cell_type": "markdown",
   "id": "e9bc09c2",
   "metadata": {},
   "source": [
    "# ⚔️ Chapter 2: The Realm of Probability"
   ]
  },
  {
   "cell_type": "markdown",
   "id": "2559c801",
   "metadata": {},
   "source": [
    "The sky was dark, tinged with red and gold. Kratos and Atreus stepped onto a battlefield that had no ground — just swirling numbers and floating symbols."
   ]
  },
  {
   "cell_type": "markdown",
   "id": "de507a16",
   "metadata": {},
   "source": [
    "<font color=\"orange\"><b>“Father… what is this place?”</b></font> Atreus asked, his voice trembling."
   ]
  },
  {
   "cell_type": "markdown",
   "id": "73ae1ddb",
   "metadata": {},
   "source": [
    "Mimir’s voice came from Kratos’ belt, echoing like a prophecy:\n",
    "\n",
    "<font color=\"orange\"><b>“This is the Realm of Probability. Everything here is uncertain. Nothing is guaranteed.\n",
    "You must learn to measure the chance of events, or chaos will consume you.”</b></font>"
   ]
  },
  {
   "cell_type": "markdown",
   "id": "5e9a6c1e",
   "metadata": {},
   "source": [
    "Kratos gritted his teeth, <font color=\"orange\"><b>“Then show me the rules. I will bend fate itself if I must.”</b></font>\n",
    "\n",
    "The first Rune appeared: P(A) --> the chance of a single event happening."
   ]
  },
  {
   "cell_type": "markdown",
   "id": "8d02682c",
   "metadata": {},
   "source": [
    "### 🧠 Python as a Weapon - Single Event Probability\n",
    "\n",
    "Kratos raised his Leviathan Axe. Each swing summoned warriors in his mind — or, in Python terms, random events."
   ]
  },
  {
   "cell_type": "code",
   "execution_count": 5,
   "id": "e97a2982",
   "metadata": {},
   "outputs": [
    {
     "name": "stdout",
     "output_type": "stream",
     "text": [
      "Probability of rolling a 6 in 1000 rolls: 0.185\n"
     ]
    }
   ],
   "source": [
    "import random\n",
    "\n",
    "dice_numbers = [1,2,3,4,5,6]\n",
    "rolls = 1000\n",
    "count_6 = sum(1 for _ in range(rolls) if random.choice(dice_numbers) == 6)\n",
    "\n",
    "probability_of_6 = count_6 / 1000\n",
    "print(f\"Probability of rolling a 6 in {rolls} rolls: {probability_of_6}\")"
   ]
  },
  {
   "cell_type": "markdown",
   "id": "873210df",
   "metadata": {},
   "source": [
    "Mimir chuckled:\n",
    "<font color=\"orange\"><b>“You See, Kratos? Fate isn’t magic — it’s numbers. You swing, you calculate, you learn.”</b></font>"
   ]
  },
  {
   "cell_type": "markdown",
   "id": "d5194eb8",
   "metadata": {},
   "source": [
    "### 🔥 Compound Events — Multiple Strikes"
   ]
  },
  {
   "cell_type": "markdown",
   "id": "75ffe208",
   "metadata": {},
   "source": [
    "Kratos realized he wasn’t facing one enemy, but many. Each strike’s success depended on others, just like multiple probabilities combined."
   ]
  },
  {
   "cell_type": "code",
   "execution_count": 7,
   "id": "2433ffa2",
   "metadata": {},
   "outputs": [
    {
     "name": "stdout",
     "output_type": "stream",
     "text": [
      "Probability of rolling two sixes in a row: 0.027777777777777776\n"
     ]
    }
   ],
   "source": [
    "prob_two_sixes = (1/6) * (1/6)\n",
    "print(f\"Probability of rolling two sixes in a row: {prob_two_sixes}\")"
   ]
  },
  {
   "cell_type": "markdown",
   "id": "3b2d4545",
   "metadata": {},
   "source": [
    "<font color=\"orange\"><b>“These, Independent events… the outcome of one does not bind the next.”</b></font>, Kratos murmured.\n",
    "\n",
    "Mimir says, <font color=\"orange\"><b>“Exactly Brother, but beware dependent events — when one action affects the next, the calculus changes.”</b></font>"
   ]
  },
  {
   "cell_type": "markdown",
   "id": "5746cf73",
   "metadata": {},
   "source": [
    "### ⚡ The Dice of Fate — Simulating Events\n",
    "\n",
    "Atreus laughed and tossed a dice, <font color=\"orange\"><b>“What if I roll it 1000 times, Father?”</b></font>"
   ]
  },
  {
   "cell_type": "code",
   "execution_count": 13,
   "id": "9aea3675",
   "metadata": {},
   "outputs": [
    {
     "name": "stdout",
     "output_type": "stream",
     "text": [
      "Probability of rolling 1: 0.155\n",
      "Probability of rolling 2: 0.16\n",
      "Probability of rolling 3: 0.159\n",
      "Probability of rolling 4: 0.158\n",
      "Probability of rolling 5: 0.184\n",
      "Probability of rolling 6: 0.184\n"
     ]
    }
   ],
   "source": [
    "import numpy as np\n",
    "\n",
    "rolls = np.random.randint(1, 7, 1000)\n",
    "unique, counts = np.unique(rolls, return_counts=True)\n",
    "probabilities = counts / 1000\n",
    "\n",
    "for number, prob in zip(unique, probabilities):\n",
    "    print(f\"Probability of rolling {number}: {prob}\")"
   ]
  },
  {
   "cell_type": "markdown",
   "id": "1eb2f56e",
   "metadata": {},
   "source": [
    "Kratos watched the numbers line up, like warriors obeying commands.\n",
    "\n",
    "<font color=\"orange\"><b>“I see it now… probability is not chance. It is the pattern behind the chaos. It can be anything.”</b></font>"
   ]
  },
  {
   "cell_type": "markdown",
   "id": "ee2a987e",
   "metadata": {},
   "source": [
    "Mimir whispered:\n",
    "\n",
    "<font color=\"orange\"><b>“Kratos… the Realm of Probability is vast. Dice, cards, real-life events — all are Runes of Chance. Learn their language, or be lost in the storm.”</b></font>"
   ]
  },
  {
   "cell_type": "markdown",
   "id": "0b70e39e",
   "metadata": {},
   "source": [
    "The Realm shimmered.\n",
    "A new portal appeared — darker, more dangerous.\n",
    "\n",
    "<font color=\"orange\"><b>“Next… we confront the beasts of Distribution.”</b></font> Mimir warned."
   ]
  }
 ],
 "metadata": {
  "kernelspec": {
   "display_name": "Python 3",
   "language": "python",
   "name": "python3"
  },
  "language_info": {
   "codemirror_mode": {
    "name": "ipython",
    "version": 3
   },
   "file_extension": ".py",
   "mimetype": "text/x-python",
   "name": "python",
   "nbconvert_exporter": "python",
   "pygments_lexer": "ipython3",
   "version": "3.13.8"
  }
 },
 "nbformat": 4,
 "nbformat_minor": 5
}
